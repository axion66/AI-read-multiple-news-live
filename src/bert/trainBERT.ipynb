{
 "cells": [
  {
   "cell_type": "code",
   "execution_count": null,
   "metadata": {},
   "outputs": [],
   "source": [
    "import torch\n",
    "from transformers import BertTokenizer, BertForSequenceClassification, AdamW\n",
    "from sklearn.metrics import accuracy_score, classification_report\n",
    "import pandas as pd\n",
    "import wandb\n",
    "from preprocess import FinanceNews, TwitterNews, merge_df\n",
    "from torch.utils.data import DataLoader, Dataset\n",
    "from tqdm import tqdm\n",
    "\n",
    "\n",
    "wandb.init(project=\"finbert-sentiment-analysis\",name=\"trainFinBert\")\n",
    "\n",
    "\n",
    "finance = \"../../dataset/sentiment/all-data.csv\"\n",
    "twitter_train = \"../../dataset/twitter/sent_train.csv\"\n",
    "twitter_test = \"../../dataset/twitter/sent_valid.csv\"\n",
    "\n",
    "finance_news = FinanceNews(finance)\n",
    "twitter_news = TwitterNews(twitter_train, twitter_test)\n",
    "merged_data = merge_df(finance_news.train, twitter_news.train)\n",
    "\n",
    "class SentimentDataset(Dataset):\n",
    "    def __init__(self, texts, labels, tokenizer, max_length=256):\n",
    "        self.texts = texts\n",
    "        self.labels = labels\n",
    "        self.tokenizer = tokenizer\n",
    "        self.max_length = max_length\n",
    "\n",
    "    def __len__(self):\n",
    "        return len(self.texts)\n",
    "\n",
    "    def __getitem__(self, item):\n",
    "        text = str(self.texts[item])\n",
    "        label = self.labels[item]\n",
    "\n",
    "        encoding = self.tokenizer.encode_plus(\n",
    "            text,\n",
    "            add_special_tokens=True,\n",
    "            max_length=self.max_length,\n",
    "            padding='max_length',\n",
    "            truncation=True,\n",
    "            return_attention_mask=True,\n",
    "            return_tensors='pt',\n",
    "        )\n",
    "\n",
    "        return {\n",
    "            'input_ids': encoding['input_ids'].flatten(),\n",
    "            'attention_mask': encoding['attention_mask'].flatten(),\n",
    "            'labels': torch.tensor(label, dtype=torch.float)\n",
    "        }\n",
    "\n",
    "tokenizer = BertTokenizer.from_pretrained('yiyanghkust/finbert-tone')\n",
    "texts = merged_data['text'].tolist()\n",
    "labels = merged_data['label'].tolist()\n",
    "\n",
    "train_dataset = SentimentDataset(texts, labels, tokenizer)\n",
    "train_dataloader = DataLoader(train_dataset, batch_size=8, shuffle=True)\n",
    "\n",
    "device = torch.device(\"cuda\" if torch.cuda.is_available() else \"cpu\")\n",
    "model = BertForSequenceClassification.from_pretrained('yiyanghkust/finbert-tone', num_labels=3)\n",
    "model.to(device)\n",
    "\n",
    "optimizer = AdamW(model.parameters(), lr=2e-6)\n",
    "# Training loop with batch-wise wandb logging\n",
    "# Fine-tuning the model with batch-wise logging \n",
    "# and saving model every 200 batches\n",
    "def train(model, dataloader, optimizer, device, epochs=3, save_interval=200):\n",
    "    model.train()\n",
    "    batch_count = 0  \n",
    "    for epoch in range(epochs):\n",
    "        loop = tqdm(dataloader, desc=f\"Epoch {epoch+1}/{epochs}\")\n",
    "        for batch_idx, batch in enumerate(loop):\n",
    "            optimizer.zero_grad()\n",
    "\n",
    "            input_ids = batch['input_ids'].to(device)\n",
    "            attention_mask = batch['attention_mask'].to(device)\n",
    "            labels = batch['labels'].to(device)\n",
    "\n",
    "            outputs = model(input_ids=input_ids, attention_mask=attention_mask, labels=labels.long())\n",
    "            loss = outputs.loss\n",
    "            logits = outputs.logits\n",
    "\n",
    "            loss.backward()\n",
    "            optimizer.step()\n",
    "\n",
    "            preds = torch.argmax(logits, dim=-1).cpu().numpy()\n",
    "            labels_np = labels.cpu().numpy()\n",
    "            batch_accuracy = (preds == labels_np).sum() / len(labels_np)\n",
    "\n",
    "            wandb.log({\n",
    "                'batch_loss': loss.item(),\n",
    "                'batch_accuracy': batch_accuracy\n",
    "            })\n",
    "\n",
    "            batch_count += 1\n",
    "            if batch_count % save_interval == 0:\n",
    "                model_save_path = f\"pretrained_{batch_count}.pt\"\n",
    "                torch.save(model.state_dict(), model_save_path)\n",
    "                print(f\"Model saved as {model_save_path} at batch {batch_count}\")\n",
    "\n",
    "            loop.set_postfix(loss=loss.item(), batch_accuracy=batch_accuracy)\n",
    "\n",
    "train(model, train_dataloader, optimizer, device)\n"
   ]
  },
  {
   "cell_type": "code",
   "execution_count": 6,
   "metadata": {},
   "outputs": [
    {
     "name": "stdout",
     "output_type": "stream",
     "text": [
      "[{'label': 'Neutral', 'score': 0.999850869178772}]\n"
     ]
    },
    {
     "data": {
      "text/plain": [
       "[{'label': 'Neutral', 'score': 0.999850869178772}]"
      ]
     },
     "execution_count": 6,
     "metadata": {},
     "output_type": "execute_result"
    }
   ],
   "source": [
    "from model import Finbert\n",
    "f = Finbert()\n",
    "\n",
    "f.infernece(['the company is doing regular amount of work!'],enablePrint=True)"
   ]
  },
  {
   "cell_type": "code",
   "execution_count": null,
   "metadata": {},
   "outputs": [],
   "source": []
  }
 ],
 "metadata": {
  "kernelspec": {
   "display_name": "ENV",
   "language": "python",
   "name": "python3"
  },
  "language_info": {
   "codemirror_mode": {
    "name": "ipython",
    "version": 3
   },
   "file_extension": ".py",
   "mimetype": "text/x-python",
   "name": "python",
   "nbconvert_exporter": "python",
   "pygments_lexer": "ipython3",
   "version": "3.11.0"
  }
 },
 "nbformat": 4,
 "nbformat_minor": 2
}

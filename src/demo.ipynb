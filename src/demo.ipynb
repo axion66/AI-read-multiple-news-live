{
 "cells": [
  {
   "cell_type": "code",
   "execution_count": 3,
   "metadata": {},
   "outputs": [
    {
     "name": "stdout",
     "output_type": "stream",
     "text": [
      "{'articles': [{'author': None,\n",
      "               'content': 'Listen to your favorite tunes with these deals! We '\n",
      "                          'post deals daily for top brands including: Bose, '\n",
      "                          'JBL, Panasonic, Klipsch, Sonos and Apple.',\n",
      "               'description': 'Save 42% on this Soundcore by Anker Q20i Hybrid '\n",
      "                              'Active Noise Cancelling Headphones today at '\n",
      "                              'Amazon. Free shipping.<br /><br /><strong>More '\n",
      "                              \"Ways to Save at Amazon:</strong><ul><li>Don't \"\n",
      "                              'already have Amazon Prime? <a rel=\"nofollow\" '\n",
      "                              'href=\"https://amzn.to/3S9yS1w…',\n",
      "               'publishedAt': '2025-03-03T14:15:04Z',\n",
      "               'source': {'id': None, 'name': 'Dealcatcher.com'},\n",
      "               'title': 'Amazon - Soundcore by Anker Q20i Hybrid Active Noise '\n",
      "                        'Cancelling Headphones $39.99',\n",
      "               'url': 'https://www.dealcatcher.com/deals/electronics/audio-video/soundcore-by-anker-hybrid-active-noise-cancelling-headphones-998411837',\n",
      "               'urlToImage': 'https://www.dealcatcher.com/__og-image__/image/deals/electronics/audio-video/soundcore-by-anker-hybrid-active-noise-cancelling-headphones-998411837/og.png'}],\n",
      " 'company_name': 'Apple'}\n"
     ]
    }
   ],
   "source": [
    "from webscraped import get_latest_news\n",
    "from pprint import pprint\n",
    "pprint(get_latest_news(\"Apple\", n=10))"
   ]
  },
  {
   "cell_type": "code",
   "execution_count": null,
   "metadata": {},
   "outputs": [],
   "source": []
  }
 ],
 "metadata": {
  "kernelspec": {
   "display_name": "Python 3",
   "language": "python",
   "name": "python3"
  },
  "language_info": {
   "codemirror_mode": {
    "name": "ipython",
    "version": 3
   },
   "file_extension": ".py",
   "mimetype": "text/x-python",
   "name": "python",
   "nbconvert_exporter": "python",
   "pygments_lexer": "ipython3",
   "version": "3.9.6"
  }
 },
 "nbformat": 4,
 "nbformat_minor": 2
}

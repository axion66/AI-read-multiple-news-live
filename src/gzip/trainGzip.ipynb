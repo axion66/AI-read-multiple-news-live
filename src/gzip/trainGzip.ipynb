{
 "cells": [
  {
   "cell_type": "code",
   "execution_count": null,
   "metadata": {},
   "outputs": [],
   "source": [
    "from preprocess import FinanceNews, TwitterNews, merge_df\n",
    "\n",
    "\n",
    "finance = \"../../dataset/sentiment/all-data.csv\"\n",
    "twitter_train = \"../../dataset/twitter/sent_train.csv\"\n",
    "twitter_test = \"../../dataset/twitter/sent_valid.csv\"\n"
   ]
  },
  {
   "cell_type": "code",
   "execution_count": null,
   "metadata": {},
   "outputs": [],
   "source": [
    "o1 = FinanceNews(finance)\n",
    "o2 = TwitterNews(twitter_train, twitter_test)\n",
    "\n"
   ]
  },
  {
   "cell_type": "code",
   "execution_count": null,
   "metadata": {},
   "outputs": [],
   "source": [
    "## Load Datasets\n",
    "t1, t2 = o1.train, o1.test\n",
    "t3, t4 = o2.train, o2.test\n",
    "\n",
    "train = merge_df(t1, t3)\n",
    "test = merge_df(t2, t4)\n"
   ]
  },
  {
   "cell_type": "code",
   "execution_count": null,
   "metadata": {},
   "outputs": [],
   "source": [
    "# Imputation (Drop any NaN values)\n",
    "print(f\"Before Imputation : {train.shape}\")\n",
    "print(f\"Before Imputation : {test.shape}\")\n",
    "\n",
    "train = train.dropna()\n",
    "test = test.dropna()\n",
    "\n",
    "print(f\"After Imputation : {train.shape}\")\n",
    "print(f\"After Imputation : {test.shape}\")\n"
   ]
  },
  {
   "cell_type": "code",
   "execution_count": null,
   "metadata": {},
   "outputs": [],
   "source": [
    "\n",
    "from tqdm import trange\n",
    "import gzip\n",
    "from sklearn.neighbors import KNeighborsClassifier\n",
    "import pickle\n",
    "\n",
    "train_x, train_y = train['text'], train['label']\n",
    "train_x, train_y = train_x[0:2000], train_y[0:2000]\n",
    "test_x, test_y = test['text'],test['label']\n",
    "test_x, test_y = test_x[0:100], test_y[0:100]\n",
    "def ncd(x, x2): # NCD with compressed lengths\n",
    "    x_compressed = len(gzip.compress(x.encode()))\n",
    "    x2_compressed = len(gzip.compress(x2.encode()))  \n",
    "    xx2 = len(gzip.compress((\" \".join([x,x2])).encode()))\n",
    "    return (xx2 - min(x_compressed, x2_compressed)) / max(x_compressed, x2_compressed)\n",
    "\n",
    "train_ncd = [[ncd(train_x[i], train_x[j]) for j in range(len(train_x))] for i in trange(len(train_x))]\n",
    "test_ncd = [[ncd(test_x[i], train_x[j]) for j in range(len(train_x))] for i in trange(len(test_x))]\n"
   ]
  },
  {
   "cell_type": "code",
   "execution_count": null,
   "metadata": {},
   "outputs": [],
   "source": [
    "\n",
    "# KNN classification\n",
    "neigh = KNeighborsClassifier(n_neighbors=4,leaf_size=20) \n",
    "neigh.fit(train_ncd, train_y)\n",
    "print(\"Accuracy:\", neigh.score(test_ncd, test_y))"
   ]
  }
 ],
 "metadata": {
  "kernelspec": {
   "display_name": "ENV",
   "language": "python",
   "name": "python3"
  },
  "language_info": {
   "codemirror_mode": {
    "name": "ipython",
    "version": 3
   },
   "file_extension": ".py",
   "mimetype": "text/x-python",
   "name": "python",
   "nbconvert_exporter": "python",
   "pygments_lexer": "ipython3",
   "version": "3.11.0"
  }
 },
 "nbformat": 4,
 "nbformat_minor": 2
}

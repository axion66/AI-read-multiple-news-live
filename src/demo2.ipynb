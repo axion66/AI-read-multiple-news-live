{
 "cells": [
  {
   "cell_type": "code",
   "execution_count": 5,
   "metadata": {},
   "outputs": [
    {
     "name": "stderr",
     "output_type": "stream",
     "text": [
      "Device set to use mps:0\n"
     ]
    }
   ],
   "source": [
    "from sklearn.metrics import accuracy_score, classification_report\n",
    "import pandas as pd\n",
    "from preprocess import FinanceNews, TwitterNews, merge_df\n",
    "from bert.model import Finbert\n",
    "# Assuming merge_df, FinanceNews, TwitterNews, and Finbert are defined as in your example.\n",
    "\n",
    "finance = \"../dataset/sentiment/all-data.csv\"\n",
    "twitter_train = \"../dataset/twitter/sent_train.csv\"\n",
    "twitter_test = \"../dataset/twitter/sent_valid.csv\"\n",
    "\n",
    "# Step 1: Load data\n",
    "finance_news = FinanceNews(finance)\n",
    "twitter_news = TwitterNews(twitter_train, twitter_test)\n",
    "\n",
    "# Merge datasets (if you want to combine the two)\n",
    "merged_data = merge_df(finance_news.train, twitter_news.train)\n",
    "\n",
    "# Step 2: Initialize the FinBERT model\n",
    "model = Finbert()\n",
    "\n",
    "# Step 3: Run inference on the merged data\n",
    "texts = merged_data['text'].tolist()  # Extract text column as list\n",
    "true_labels = merged_data['label'].tolist()  # Extract true labels\n",
    "\n",
    "# Get predictions\n",
    "predictions, _ = model.infernece(texts)\n",
    "\n",
    "# Convert predictions to numerical labels (assuming model gives a label from 0, 1, 2)\n",
    "predicted_labels = []\n",
    "for prediction in predictions:\n",
    "    predicted_labels.append(prediction['label'])\n",
    "\n",
    "# Map the predicted sentiment (positive/neutral/negative) to numerical labels\n",
    "sentiment_mapping = {\n",
    "    'positive': 2.0,\n",
    "    'neutral': 1.0,\n",
    "    'negative': 0.0\n",
    "}\n",
    "\n",
    "predicted_numerical_labels = [sentiment_mapping[label] for label in predicted_labels]\n",
    "\n",
    "# Step 4: Calculate accuracy\n",
    "accuracy = accuracy_score(true_labels, predicted_numerical_labels)\n",
    "print(f'Accuracy: {accuracy * 100:.2f}%')\n",
    "\n",
    "# Optional: Classification Report\n",
    "print(\"Classification Report:\")\n",
    "print(classification_report(true_labels, predicted_numerical_labels))\n"
   ]
  },
  {
   "cell_type": "code",
   "execution_count": null,
   "metadata": {},
   "outputs": [],
   "source": []
  }
 ],
 "metadata": {
  "kernelspec": {
   "display_name": "Python 3",
   "language": "python",
   "name": "python3"
  },
  "language_info": {
   "codemirror_mode": {
    "name": "ipython",
    "version": 3
   },
   "file_extension": ".py",
   "mimetype": "text/x-python",
   "name": "python",
   "nbconvert_exporter": "python",
   "pygments_lexer": "ipython3",
   "version": "3.9.6"
  }
 },
 "nbformat": 4,
 "nbformat_minor": 2
}
